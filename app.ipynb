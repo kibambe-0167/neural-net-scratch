{
 "cells": [
  {
   "cell_type": "code",
   "execution_count": null,
   "metadata": {},
   "outputs": [],
   "source": [
    "import numpy  as np\n",
    "import pandas as pd\n",
    "import random\n",
    "import matplotlib.pyplot as plt\n",
    "\n",
    "np.random.seed(18)\n",
    "random.seed(18)"
   ]
  },
  {
   "cell_type": "code",
   "execution_count": null,
   "metadata": {},
   "outputs": [],
   "source": [
    "df = pd.read_csv(\"./data/fashion-mnist_train.csv\")\n",
    "df.head()"
   ]
  },
  {
   "cell_type": "code",
   "execution_count": null,
   "metadata": {},
   "outputs": [],
   "source": [
    "df['label'].value_counts()"
   ]
  },
  {
   "cell_type": "code",
   "execution_count": null,
   "metadata": {},
   "outputs": [],
   "source": [
    "Y = np.array( df['label'] )\n",
    "X = np.array( df.drop(columns=['label'], axis=1) )\n",
    "# \n",
    "X.shape, Y.shape"
   ]
  },
  {
   "cell_type": "code",
   "execution_count": null,
   "metadata": {},
   "outputs": [],
   "source": [
    "# initialize params, update to use xavier\n",
    "def start_params():\n",
    "    w1 = np.random.rand(10, 784)\n",
    "    b1 = np.random.rand(10, 1)\n",
    "    #\n",
    "    w2 = np.random.rand(10, 10)\n",
    "    b2 = np.random.rand(10, 1)\n",
    "    #\n",
    "    return w1, b1, w2, b2\n",
    "\n",
    "\n",
    "def tanh(x):\n",
    "    \"\"\"link: check here, https://en.wikipedia.org/wiki/Hyperbolic_functions\"\"\"\n",
    "\n",
    "\n",
    "def leaky_relu(x):\n",
    "    \"\"\"link: https://en.wikipedia.org/wiki/Rectifier_(neural_networks) scroll to Variants\"\"\"\n",
    "\n",
    "\n",
    "def relu(x):\n",
    "    \"\"\"return item if item if more than 0, otherwise return 0: https://en.wikipedia.org/wiki/Rectifier_(neural_networks)\"\"\"\n",
    "    return np.array([1 if i > 0 else 0 for i in x])\n",
    "\n",
    "\n",
    "def deriv_relu(x):\n",
    "    return x > 0\n",
    "\n",
    "\n",
    "def softmax(x):\n",
    "    \"\"\"calculate the softmax of the vector array element: https://en.wikipedia.org/wiki/Softmax_function\"\"\"\n",
    "    return np.exp(x) / sum(np.exp(x))\n",
    "\n",
    "\n",
    "def forward(w1, b1, w2, b2, x):\n",
    "    y1 = w1.dot(x) + b1\n",
    "    y1_nl = relu(y1)\n",
    "    #\n",
    "    y2 = w2.dot(y1_nl) + b2\n",
    "    y2_nl = softmax(y2)\n",
    "    #\n",
    "    return y1, y1_nl, y2, y2_nl\n",
    "\n",
    "\n",
    "def backward(y1, y1_nl, y2, y2_nl, w2, x, y):\n",
    "    m = y.size\n",
    "    d_y2 = y2_nl - y\n",
    "    d_w2 = (1 / m) * d_y2.dot(y1_nl)  # change to y2_nl\n",
    "    d_b2 = (1 / m) * sum(d_y2)\n",
    "    #\n",
    "    d_y1 = w2.dot(d_y2) * deriv_relu(y1)\n",
    "    d_w1 = (1 / m) * d_y1.dot(x)\n",
    "    d_b1 = (1 / m) * sum(d_y1)\n",
    "    #\n",
    "    return d_w1, d_b1, d_w2, d_b2\n",
    "\n",
    "\n",
    "def step(w1, b1, w2, b2, dw1, db1, dw2, db2, lr):\n",
    "    \"\"\"update paramters after backward pass\"\"\"\n",
    "    w1 = w1 - lr * dw1\n",
    "    b1 = b1 - lr * db1\n",
    "    #\n",
    "    w2 = w2 - lr * dw2\n",
    "    b2 = b2 - lr * db2\n",
    "    #\n",
    "    return w1, b1, w2, b2\n",
    "\n",
    "def gd(X, Y, epochs, lr, ):\n",
    "    w1, b1, w2, b2 = start_params()\n",
    "    \n",
    "    for i in range(epochs):\n",
    "        pass    \n",
    "    "
   ]
  },
  {
   "cell_type": "code",
   "execution_count": 28,
   "metadata": {},
   "outputs": [
    {
     "data": {
      "text/plain": [
       "1.0000000000000002"
      ]
     },
     "execution_count": 28,
     "metadata": {},
     "output_type": "execute_result"
    }
   ],
   "source": [
    "a = np.array([0.8, 0.05, 0.05, 0.1])\n",
    "sum(a)"
   ]
  },
  {
   "cell_type": "code",
   "execution_count": null,
   "metadata": {},
   "outputs": [],
   "source": []
  }
 ],
 "metadata": {
  "kernelspec": {
   "display_name": "envs",
   "language": "python",
   "name": "python3"
  },
  "language_info": {
   "codemirror_mode": {
    "name": "ipython",
    "version": 3
   },
   "file_extension": ".py",
   "mimetype": "text/x-python",
   "name": "python",
   "nbconvert_exporter": "python",
   "pygments_lexer": "ipython3",
   "version": "3.10.7"
  }
 },
 "nbformat": 4,
 "nbformat_minor": 2
}
